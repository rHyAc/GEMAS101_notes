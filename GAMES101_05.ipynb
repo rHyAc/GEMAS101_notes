{
 "cells": [
  {
   "cell_type": "markdown",
   "metadata": {},
   "source": [
    "# FOVY\n",
    "![](./imgs/3.jpg)"
   ]
  },
  {
   "cell_type": "markdown",
   "metadata": {},
   "source": [
    "  # Canonical Cube to Screen"
   ]
  },
  {
   "cell_type": "markdown",
   "metadata": {},
   "source": [
    "viewport transform matrix $M_{viewport}$\n",
    "> $M_{\\text {viewport }}=\\left(\\begin{array}{cccc}\\frac{\\text { width }}{2} & 0 & 0 & \\frac{\\text { width }}{2} \\\\ 0 & \\frac{\\text { height }}{2} & 0 & \\frac{\\text { height }}{2} \\\\ 0 & 0 & 1 & 0 \\\\ 0 & 0 & 0 & 1\\end{array}\\right)$"
   ]
  },
  {
   "cell_type": "markdown",
   "metadata": {},
   "source": [
    "# Triangles - Fundamental Shape Primitives\n",
    "\n",
    "Unique properties\n",
    "1. guaranteed to be planar  \n",
    "2. well-defined interior  \n",
    "3. barycentric interpolation"
   ]
  }
 ],
 "metadata": {
  "kernelspec": {
   "display_name": "Python 3",
   "language": "python",
   "name": "python3"
  },
  "language_info": {
   "codemirror_mode": {
    "name": "ipython",
    "version": 3
   },
   "file_extension": ".py",
   "mimetype": "text/x-python",
   "name": "python",
   "nbconvert_exporter": "python",
   "pygments_lexer": "ipython3",
   "version": "3.8.5"
  }
 },
 "nbformat": 4,
 "nbformat_minor": 4
}
