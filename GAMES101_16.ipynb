{
 "cells": [
  {
   "cell_type": "markdown",
   "metadata": {},
   "source": [
    "# Monte Carlo Integration\n",
    "\n",
    "eatimate the integral of a function by averaging random samples of the function's value\n",
    "\n",
    "> $\\int_{L} f(x) \\mathrm{d} x \\approx F_{N}=\\frac{1}{N} \\sum_{i=1}^{N} \\frac{f\\left(x_{i}\\right)}{p\\left(x_{i}\\right)}$\n",
    ">\n",
    "> where $X \\sim p(x)$"
   ]
  },
  {
   "cell_type": "markdown",
   "metadata": {},
   "source": [
    "# Path Tracing\n",
    "\n",
    "```c\n",
    "// direction wo, from object p\n",
    "shade(p, wo)\n",
    "{\n",
    "    // Russian Roulette\n",
    "    ramdomly select ksi in a uniform dist in [0, 1];\n",
    "    // P_RR is a manually specified probability threshold\n",
    "    if (ksi > P_RR) \n",
    "        return .0;\n",
    "    \n",
    "    // if choose N directions, rays will explode\n",
    "    ramdomly choose one directions wi;\n",
    "    Lo = .0;\n",
    "    for each wi\n",
    "    {\n",
    "        // origin p, direction wi\n",
    "        trace a ray r(p, wi);\n",
    "        \n",
    "        // direct illumination\n",
    "        if ray r hit the light\n",
    "            // divide P_RR for (expetion of Lo) = Lo\n",
    "            // pdf for probability distribution function\n",
    "            Lo += (1 / N) * L_i * f_r * cosine / pdf(wi) / P_RR;\n",
    "        \n",
    "        // indirect illumination\n",
    "        else if ray r hit an object at q\n",
    "            Lo += (1 / N) * shade(q, -wi) * f_r * cosine / pdf(wi) / P_RR;\n",
    "    }\n",
    "    return Lo;\n",
    "}            \n",
    "```\n",
    "\n",
    "![](./imgs/41.jpg)\n",
    "\n",
    "```c\n",
    "ray_generation(cam_pos, pixel)\n",
    "{\n",
    "    uniformly choose N sample positions within the pixel;\n",
    "    pixel_radiance = .0;\n",
    "    for each sample in the pixel\n",
    "    {\n",
    "        shoot a ray r(cam_pos, cam_to_sample);\n",
    "        if ray r hit the scene at p\n",
    "            pixel_radiance += 1 / N * shade(p, sample_to_cam);\n",
    "    }\n",
    "    return pixel_radiance;\n",
    "}\n",
    "```"
   ]
  },
  {
   "cell_type": "markdown",
   "metadata": {},
   "source": [
    "### more efficient solution: sample integrated point on light\n",
    "\n",
    "![](./imgs/42.jpg)\n",
    "\n",
    "> relationship between $\\mathrm{d} \\omega$ and $\\mathrm{d} A$: $d \\omega=\\frac{d A \\cos \\theta^{\\prime}}{\\left\\|x^{\\prime}-x\\right\\|^{2}}$\n",
    ">\n",
    "> so $\\begin{aligned} L_{o}\\left(x, \\omega_{o}\\right) &=\\int_{\\Omega^{+}} L_{i}\\left(x, \\omega_{i}\\right) f_{r}\\left(x, \\omega_{i}, \\omega_{o}\\right) \\cos \\theta \\mathrm{d} \\omega_{i_{ }} \\\\ &=\\int_{A} L_{i}\\left(x, \\omega_{i}\\right) f_{r}\\left(x, \\omega_{i}, \\omega_{o}\\right) \\frac{\\cos \\theta \\cos \\theta^{\\prime}}{\\Vert x^{\\prime}-x\\Vert ^{2}} \\mathrm{~d} A \\end{aligned}$\n",
    ">\n",
    "> using Monte Carlo Integration, $X \\sim pdf=\\frac{1}{A}$\n",
    "\n",
    "```c\n",
    "shade(p, wo)\n",
    "{\n",
    "    // contribution from light source\n",
    "    uniformly sample the light at x_prime (pdf_light = 1 / A);\n",
    "    shoot a ray from p to x_prime;\n",
    "    if the ray is not blocked\n",
    "        L_dir = L_i * f_r * cosine * cosine_prime / [x_prime - p]^2 / pdf_light;\n",
    "    \n",
    "    // contribution from other reflectors\n",
    "    L_indir = .0;\n",
    "    test Russian Roulette with probability P_RR;\n",
    "    uniformly sample the hemisphere toward wi (pdf_hemi = 1 / 2pi);\n",
    "    trace a ray r(p, wi);\n",
    "    if ray r hit a non-emitting object at q\n",
    "        L_indir = shade(q, -wi) * f_r * cosine / pdf_hemi / P_RR;\n",
    "    return L_dir + L_indir;\n",
    "}\n",
    "```"
   ]
  }
 ],
 "metadata": {
  "kernelspec": {
   "display_name": "Python 3",
   "language": "python",
   "name": "python3"
  },
  "language_info": {
   "codemirror_mode": {
    "name": "ipython",
    "version": 3
   },
   "file_extension": ".py",
   "mimetype": "text/x-python",
   "name": "python",
   "nbconvert_exporter": "python",
   "pygments_lexer": "ipython3",
   "version": "3.8.5"
  }
 },
 "nbformat": 4,
 "nbformat_minor": 4
}
