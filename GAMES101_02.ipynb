{
 "cells": [
  {
   "cell_type": "markdown",
   "metadata": {},
   "source": [
    "# Determine if a Point Lies Inside a Triangle\n",
    "\n",
    "> $p$ is within $\\triangle abc$ $\\Longleftrightarrow$ $sgn(\\vec{ap} \\times \\vec{ab}) = sgn(\\vec{bp} \\times \\vec{bc}) = sgn(\\vec{cp} \\times \\vec{ca})$"
   ]
  },
  {
   "cell_type": "markdown",
   "metadata": {},
   "source": [
    "# Cross Product\n",
    "\n",
    "> $\\vec{a} \\times \\vec{b} = Ab = \\begin{pmatrix} 0 & -z_a & y_a \\\\  z_a & 0 & -x_a \\\\ -y_a & x_a & 0 \\end{pmatrix} \\begin{pmatrix} x_b \\\\ y_b \\\\ z_b \\end{pmatrix}$\n",
    ">\n",
    "> $A$ is the dual matrix of $\\vec{a}$"
   ]
  }
 ],
 "metadata": {
  "kernelspec": {
   "display_name": "Python 3",
   "language": "python",
   "name": "python3"
  },
  "language_info": {
   "codemirror_mode": {
    "name": "ipython",
    "version": 3
   },
   "file_extension": ".py",
   "mimetype": "text/x-python",
   "name": "python",
   "nbconvert_exporter": "python",
   "pygments_lexer": "ipython3",
   "version": "3.8.5"
  }
 },
 "nbformat": 4,
 "nbformat_minor": 4
}
