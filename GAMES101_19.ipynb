{
 "cells": [
  {
   "cell_type": "markdown",
   "metadata": {},
   "source": [
    "# Field of View\n",
    "\n",
    "> $\\mathrm{FOV}=2 \\arctan \\left(\\frac{h}{2 f}\\right)$\n",
    ">\n",
    "> ![](./imgs/53.jpg)\n",
    "\n",
    "**Note**: for a fixed sensor size, decreasing the focal length increase the field of view\n",
    "\n",
    "> "
   ]
  },
  {
   "cell_type": "markdown",
   "metadata": {},
   "source": [
    "# Exposure\n",
    "\n",
    "controled by aperture size, shutter speed and ISO gain\n",
    "\n",
    "> $ \\mathrm{exposure}=\\mathrm{time} \\times \\mathrm{irradiance}$"
   ]
  },
  {
   "cell_type": "markdown",
   "metadata": {},
   "source": [
    "# ISO\n",
    "\n",
    "- amplify the signal and the noise simultaneously\n",
    "- linear (ISO 200 needs half the light as ISO 100)"
   ]
  },
  {
   "cell_type": "markdown",
   "metadata": {},
   "source": [
    "# Aperture Size\n",
    "\n",
    "written as FN or F/N, N is the F-number\n",
    "\n",
    "- F-number: the focal length divided by the diameter of the aperture"
   ]
  },
  {
   "cell_type": "markdown",
   "metadata": {},
   "source": [
    "# Shutter\n",
    "\n",
    "- Rolling shutter: different parts of photo taken at different times"
   ]
  },
  {
   "cell_type": "markdown",
   "metadata": {},
   "source": [
    "# Ideal Thin Lens\n",
    "\n",
    "- all parallel rays entering a lens pass through its focal\n",
    "- all rays through a focal point will be in parallel after passing the lens\n",
    "- focal length can be arbitrarily changed\n",
    "\n",
    "> $\\frac{1}{f}=\\frac{1}{z_{i}}+\\frac{1}{z_{o}}$\n",
    ">\n",
    "> ![](./imgs/54.jpg)\n",
    "\n",
    "> circle of confusion\n",
    ">\n",
    "> $\\frac{C}{A}=\\frac{d^{\\prime}}{z_{i}}=\\frac{\\left|z_{s}-z_{i}\\right|}{z_{i}}$\n",
    ">\n",
    "> so $C=A \\frac{\\left|z_{s}-z_{i}\\right|}{z_{i}}=\\frac{f}{N} \\frac{\\left|z_{s}-z_{i}\\right|}{z_{i}}$, where $f$ is the focal length, $N$ is the F-number\n",
    ">\n",
    "> ![](./imgs/55.jpg)"
   ]
  },
  {
   "cell_type": "markdown",
   "metadata": {},
   "source": [
    "# Depth of Field\n",
    "\n",
    "depth range in a scene where the corresponding CoC is considered small enough\n",
    "\n",
    "![](./imgs/56.jpg)\n",
    "\n",
    "![](./imgs/57.jpg)"
   ]
  }
 ],
 "metadata": {
  "kernelspec": {
   "display_name": "Python 3",
   "language": "python",
   "name": "python3"
  },
  "language_info": {
   "codemirror_mode": {
    "name": "ipython",
    "version": 3
   },
   "file_extension": ".py",
   "mimetype": "text/x-python",
   "name": "python",
   "nbconvert_exporter": "python",
   "pygments_lexer": "ipython3",
   "version": "3.8.5"
  }
 },
 "nbformat": 4,
 "nbformat_minor": 4
}
