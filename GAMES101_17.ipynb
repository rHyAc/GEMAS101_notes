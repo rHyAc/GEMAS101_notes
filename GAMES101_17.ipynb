{
 "cells": [
  {
   "cell_type": "markdown",
   "metadata": {},
   "source": [
    "# Diffuse/Lambertian Material\n",
    "\n",
    "> BRDF: $f_{r}=\\frac{\\rho}{\\pi}$, where $\\rho \\in [0, 1]$ is albedo"
   ]
  },
  {
   "cell_type": "markdown",
   "metadata": {},
   "source": [
    "# Reflective/refractive Material\n",
    "\n",
    "![](./imgs/43.jpg)\n",
    "\n",
    "### specular reflection\n",
    "\n",
    "> ![](./imgs/48.jpg)\n",
    ">\n",
    "> $\\theta=\\theta_{o}=\\theta_{i}$\n",
    ">\n",
    "> $\\omega_{o}+\\omega_{i}=2 \\cos{\\theta} \\vec{\\mathrm{n}}=2\\left(\\omega_{i} \\cdot \\vec{\\mathrm{n}}\\right) \\vec{\\mathrm{n}}$\n",
    ">\n",
    "> $\\omega_{o}=-\\omega_{i}+2\\left(\\omega_{i} \\cdot \\vec{n}\\right) \\vec{n}$\n",
    "\n",
    "or \n",
    "\n",
    "> ![](./imgs/49.jpg)\n",
    ">\n",
    ">  azimuthal angle $\\phi_{o}=\\left(\\phi_{i}+\\pi\\right) \\bmod 2 \\pi$\n",
    "\n",
    "### refraction\n",
    "\n",
    "- **Snell's Law**\n",
    "\n",
    "> $\\eta_{i} \\sin \\theta_{i}=\\eta_{t} \\sin \\theta_{t}$, where $\\eta$ is index of refraction\n",
    ">\n",
    "> ![](./imgs/50.jpg)\n",
    "\n",
    "> $\\varphi_{t}=\\varphi_{i} \\pm \\pi$\n",
    ">\n",
    "> ![](./imgs/51.jpg)\n",
    "\n",
    "### Fresnel reflection\n",
    "\n",
    "the power of reflectance correlates with incident angle and index of refraction\n",
    "\n",
    "> Schlick's approximation for Fresnel term\n",
    ">\n",
    "> $R(\\theta)=R_{0}+\\left(1-R_{0}\\right)(1-\\cos \\theta)^{5}$\n",
    ">\n",
    "> where $R_{0}=\\left(\\frac{\\eta_{1}-\\eta_{2}}{\\eta_{1}+\\eta_{2}}\\right)^{2}$, the Reflectance when $\\theta=0$"
   ]
  },
  {
   "cell_type": "markdown",
   "metadata": {},
   "source": [
    "# Microfacet Material\n",
    "\n",
    "for rough surface, macroscale: flat & rough, microscale: bumpy & specular\n",
    "\n",
    "- the distribution of microfacets' normals\n",
    "\n",
    "![](./imgs/44.jpg)\n",
    "\n",
    "- BRDF \n",
    "\n",
    "> $f(\\vec{i}, \\vec{o})=\\frac{\\mathbf{F}(\\vec{i}, \\vec{h}) \\mathbf{G}(\\vec{i}, \\vec{o}, \\vec{h}) \\mathbf{D}(\\vec{h})}{4(\\vec{n}, \\vec{i})(\\vec{n}, \\vec{o})}$\n",
    ">\n",
    "> where  \n",
    "> $\\mathbf{F}(\\vec{i}, \\vec{h})$ is Fresnel term  \n",
    "> $\\mathbf{G}(\\vec{i}, \\vec{o}, \\vec{h})$ is shdowing-masking term (due to microfacet obstruction)  \n",
    "> $\\mathbf{D}(\\vec{h})$ is the distribution of normals\n",
    ">\n",
    "> ![](./imgs/52.jpg)"
   ]
  },
  {
   "cell_type": "markdown",
   "metadata": {},
   "source": [
    "# Isotropic/Anisotropic Materials\n",
    "\n",
    "anisotropic material: reflection depends on azimuthal angle of incident light and $f_{r}\\left(\\theta_{i}, \\phi_{i} ; \\theta_{r}, \\phi_{r}\\right)\\neq f_{r}\\left(\\theta_{i}, \\theta_{r}, |\\phi_{r}-\\phi_{i}\\right|)$\n",
    "\n",
    "![](./imgs/45.jpg)"
   ]
  },
  {
   "cell_type": "markdown",
   "metadata": {},
   "source": [
    "# Properties of BRDFs\n",
    "\n",
    "- Non-negativity\n",
    "\n",
    "- Linearity\n",
    "\n",
    "![](./imgs/46.jpg)\n",
    "\n",
    "- Reciprocity principle \n",
    "\n",
    "> $f_{r}\\left(\\omega_{r} \\rightarrow \\omega_{i}\\right)=f_{r}\\left(\\omega_{i} \\rightarrow \\omega_{r}\\right)$\n",
    "\n",
    "- Enery conservation\n",
    "\n",
    "> $\\forall \\omega_{r} \\int_{H^{2}} f_{r}\\left(\\omega_{i} \\rightarrow \\omega_{r}\\right) \\cos \\theta_{i} \\mathrm{~d} \\omega_{i} \\leq 1$"
   ]
  },
  {
   "cell_type": "markdown",
   "metadata": {},
   "source": [
    "# Measuring BRDFs\n",
    "\n",
    "![](./imgs/47.jpg)"
   ]
  }
 ],
 "metadata": {
  "kernelspec": {
   "display_name": "Python 3",
   "language": "python",
   "name": "python3"
  },
  "language_info": {
   "codemirror_mode": {
    "name": "ipython",
    "version": 3
   },
   "file_extension": ".py",
   "mimetype": "text/x-python",
   "name": "python",
   "nbconvert_exporter": "python",
   "pygments_lexer": "ipython3",
   "version": "3.8.5"
  }
 },
 "nbformat": 4,
 "nbformat_minor": 4
}
