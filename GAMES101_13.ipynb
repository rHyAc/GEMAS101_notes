{
 "cells": [
  {
   "cell_type": "markdown",
   "metadata": {},
   "source": [
    "# Recursive Ray Tracing\n",
    "\n",
    "![](./imgs/30.jpg)"
   ]
  },
  {
   "cell_type": "markdown",
   "metadata": {},
   "source": [
    " # Ray Equation\n",
    " \n",
    "> $\\mathbf{r}(t)=\\mathbf{o}+t \\mathbf{d} \\quad 0 \\leq t<\\infty$\n",
    ">\n",
    "> where  \n",
    "> $\\mathbf{r}$: points along ray  \n",
    "> $t$: time  \n",
    "> $\\mathbf{o}$: orgin  \n",
    "> $\\mathbf{d}$: (normalized) direction"
   ]
  },
  {
   "cell_type": "markdown",
   "metadata": {},
   "source": [
    "# Ray Intersection with Implict Surface\n",
    "\n",
    "> $f(\\mathbf{r}(t))=0$  \n",
    "> \n",
    "> where  \n",
    "> $f(\\mathbf{p})=0$, $\\mathbf{p}$: implicit surface   \n",
    "> $\\mathbf{r}(t)$: ray"
   ]
  },
  {
   "cell_type": "markdown",
   "metadata": {},
   "source": [
    "# Ray Intersection with Triangle Mesh\n",
    "\n",
    "just intersect ray with each triangle (slow)\n",
    "\n",
    "> - two steps method:\n",
    ">\n",
    "> suppose triangle in the plane $\\mathbf{p}$: $\\left(\\mathbf{p}-\\mathbf{p}^{\\prime}\\right) \\cdot \\mathbf{N}=0$  \n",
    ">\n",
    "> where  \n",
    "> $\\mathbf{p}^{\\prime}$ is the point in the plane  \n",
    "> $\\mathbf{N}$ is the normal vector to the plane  \n",
    ">\n",
    "> Set $\\mathbf{p}=\\mathbf{r}(t)$ and get the equation: $\\left(\\mathbf{p}-\\mathbf{p}^{\\prime}\\right) \\cdot \\mathbf{N}=\\left(\\mathbf{o}+t \\mathbf{d}-\\mathbf{p}^{\\prime}\\right) \\cdot \\mathbf{N}=0$\n",
    ">\n",
    "> solutions: $t=\\frac{\\left(\\mathbf{p}^{\\prime}-\\mathbf{o}\\right) \\cdot \\mathbf{N}}{\\mathbf{d} \\cdot \\mathbf{N}}$, then check: whether $0 \\leq t<\\infty$ and the $\\mathbf{o}+t \\mathbf{d}$ in the triangle\n",
    ">\n",
    "> ![](./imgs/31.jpg)\n",
    "\n",
    "> - one step method:\n",
    ">\n",
    "> For $\\triangle abc$:  \n",
    "> equation: $\\mathbf{o}+t \\mathbf{d}=\\left(1-b_{1}-b_{2}\\right) \\mathbf{a}+b_{1} \\mathbf{b}+b_{2} \\mathbf{c}$ -- barycentric coordiinates\n",
    ">\n",
    "> solution: $\\left[\\begin{array}{c}t \\\\ b_{1} \\\\ b_{2}\\end{array}\\right]=\\frac{1}{\\mathbf{s}_{1} \\cdot \\mathbf{e}_{1}}\\left[\\begin{array}{c}\\mathbf{s}_{2} \\cdot \\mathbf{e}_{2} \\\\ \\mathbf{s}_{1} \\cdot \\mathbf{s} \\\\ \\mathbf{s}_{2} \\cdot \\mathbf{d}\\end{array}\\right]$\n",
    ">\n",
    "> where  \n",
    "> $\\mathbf{e}_{1}=\\mathbf{b}-\\mathbf{a}$  \n",
    "> $\\mathbf{e}_{2}=\\mathbf{c}-\\mathbf{a}$  \n",
    "> $\\mathbf{s}=\\mathbf{o}-\\mathbf{a}$  \n",
    "> $\\mathbf{s}_{1}=\\mathbf{d} \\times \\mathbf{e}_{2}$  \n",
    "> $\\mathbf{s}_{2}=\\mathbf{s} \\times \\mathbf{e}_{1}$"
   ]
  },
  {
   "cell_type": "markdown",
   "metadata": {},
   "source": [
    "# Bounding Volumes\n",
    "\n",
    "- object is full contain in the volume\n",
    "- if it doesn't hit the volume, it doesn't hit the object\n",
    "- test BVol first, then test object if it hits\n",
    "\n",
    "![](./imgs/32.jpg)\n",
    "\n",
    "> often use an Axis-Aligned Bounding Box (AABB)  \n",
    "> i.e. any side of the BB is along either x, y, or z axis\n",
    "\n",
    "> $t_{\\text{enter}}=\\max{(t_{\\text{min}})}, t_{\\text{exit}}=\\min{(t_{\\text{max}})}$\n",
    "> check: whether $t_{\\text{enter}} < t_{\\text{exxit}}$ and $t_{\\text{exit}}\\geq 0$\n",
    ">\n",
    "> ![](./imgs/33.jpg)"
   ]
  }
 ],
 "metadata": {
  "kernelspec": {
   "display_name": "Python 3",
   "language": "python",
   "name": "python3"
  },
  "language_info": {
   "codemirror_mode": {
    "name": "ipython",
    "version": 3
   },
   "file_extension": ".py",
   "mimetype": "text/x-python",
   "name": "python",
   "nbconvert_exporter": "python",
   "pygments_lexer": "ipython3",
   "version": "3.8.5"
  }
 },
 "nbformat": 4,
 "nbformat_minor": 4
}
