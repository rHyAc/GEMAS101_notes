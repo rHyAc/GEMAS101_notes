{
 "cells": [
  {
   "cell_type": "markdown",
   "metadata": {},
   "source": [
    "# 3D Rotation"
   ]
  },
  {
   "cell_type": "markdown",
   "metadata": {},
   "source": [
    "> around x-axis(roll) $\\begin{pmatrix} 1 & 0 & 0 & 0 \\\\ 0 & cos\\alpha & -sin\\alpha & 0 \\\\ 0 & sin\\alpha & cos\\alpha & 0 \\\\ 0 & 0 & 0 & 1 \\end{pmatrix}$\n",
    "\n",
    "> around y-axis(pitch) $\\begin{pmatrix} cos\\alpha & 0 & sin\\alpha & 0 \\\\ 0 & 1 & 0 & 0 \\\\ -sin\\alpha & 0 & cos\\alpha & 0 \\\\ 0 & 0 & 0 & 1 \\end{pmatrix}$ (clockwise, from x to z)\n",
    "\n",
    "> around z-axis(Yaw) $\\begin{pmatrix} cos\\alpha & -sin\\alpha & 0 & 0 \\\\ sin\\alpha & cos\\alpha & 0 & 0 \\\\ 0 & 0 & 1 & 0 \\\\ 0 & 0 & 0 & 1 \\end{pmatrix}$"
   ]
  },
  {
   "cell_type": "markdown",
   "metadata": {},
   "source": [
    "# Rodrigues' Roataion Formula"
   ]
  },
  {
   "cell_type": "markdown",
   "metadata": {},
   "source": [
    "Rotation by angle $\\alpha$ around axis $\\textbf{e}$\n",
    "\n",
    "> $\\textbf{R}(\\textbf{e}, \\alpha) = cos(\\alpha)\\textbf{I} + (1 - cos(\\alpha))\\textbf{e}\\textbf{e}^T + sin(\\alpha)\\textbf{N}$, where $\\textbf{N} = \\begin{pmatrix} 0 & -e_z & e_y \\\\ e_z & 0 & -e_x \\\\ -e_y & e_x & 0 \\end{pmatrix} $ "
   ]
  },
  {
   "cell_type": "markdown",
   "metadata": {},
   "source": [
    "# Camera Transformation"
   ]
  },
  {
   "cell_type": "markdown",
   "metadata": {},
   "source": [
    "World coordinates: camera at $\\hat{e}$, up direction $\\vec{t}$, looks at $\\vec{g}$  \n",
    "Camera coordinates: camera at $(0, 0, 0)$, up at $Y$, look at $-Z$"
   ]
  },
  {
   "cell_type": "markdown",
   "metadata": {},
   "source": [
    "Transformation Matrix $M_{view}$\n",
    "> $M_{view} = R_{view}T_{view}$, where $T_{view} = \\begin{bmatrix} 1 & 0 & 0 & -\\hat{e}_x \\\\ 0 & 1 & 0 & -\\hat{e}_y \\\\ 0 & 0 & 1 & -\\hat{e}_z \\\\ 0 & 0 & 0 & 1 \\end{bmatrix}$"
   ]
  },
  {
   "cell_type": "markdown",
   "metadata": {},
   "source": [
    "It's easy to get rotation: $X$ to $\\vec{g} \\times \\vec{t}$, $Y$ to $\\vec{t}$, $Z$ to $-\\vec{g}$, so\n",
    "> $R^{-1}_{view} = \\begin{bmatrix} (\\vec{g} \\times \\vec{t})_x & \\vec{t}_x & -\\vec{g}_x & 0 \\\\ (\\vec{g} \\times \\vec{t})_y & \\vec{t}_y & -\\vec{g}_y & 0 \\\\ (\\vec{g} \\times \\vec{t})_z & \\vec{t}_z & -\\vec{g}_z & 0 \\\\ 0 & 0 & 0 & 1 \\end{bmatrix} \\Longrightarrow R_{view} = (R^{-1})^T_{view} $"
   ]
  },
  {
   "cell_type": "markdown",
   "metadata": {},
   "source": [
    "# Projection Transformation"
   ]
  },
  {
   "cell_type": "markdown",
   "metadata": {},
   "source": [
    "- Orthographic Projection $M_{ortho}$\n",
    "\n",
    "> map a cuboid $x: [l, r]$, $y: [b, t]$, $z: [f, n]$ to canonical cube $[-1, 1]^3$\n",
    ">\n",
    "> $M_{ortho} = \\begin{bmatrix} \\frac{2}{r-l} & 0 & 0 & 0 \\\\ 0 & \\frac{2}{t-b} & 0 & 0 \\\\ 0 & 0 & \\frac{2}{n-f} & 0 \\\\ 0 & 0 & 0 & 1 \\end{bmatrix} \\begin{bmatrix} 1 & 0 & 0 & -\\frac{r+l}{2} \\\\ 0 & 1 & 0 & -\\frac{t+b}{2} \\\\ 0 & 0 & 1 & -\\frac{n+f}{2} \\\\ 0 & 0 & 0 & 1 \\end{bmatrix} $"
   ]
  },
  {
   "cell_type": "markdown",
   "metadata": {},
   "source": [
    "- prespective Projection $M_{presp} = M_{ortho}M_{presp \\rightarrow ortho}$"
   ]
  },
  {
   "cell_type": "markdown",
   "metadata": {},
   "source": [
    "> $M_{presp \\rightarrow ortho}$ : map frutum(near plane n, far plane f) to cuboid  \n",
    "> ![](./imgs/1.jpg)  \n"
   ]
  },
  {
   "cell_type": "markdown",
   "metadata": {},
   "source": [
    "> $(x, y, z)$ in frustum, $(x', y', z')$ on near plane  \n",
    ">\n",
    "> $y^{\\prime}=\\frac{n}{z} y \\quad x^{\\prime}=\\frac{n}{z} x$\n",
    ">\n",
    "> ![](./imgs/2.jpg)"
   ]
  },
  {
   "cell_type": "markdown",
   "metadata": {},
   "source": [
    "> $a = \\left(\\begin{array}{l}x \\\\ y \\\\ n \\\\ 1\\end{array}\\right)$ on near plane, so\n",
    "> $M_{presp \\rightarrow ortho}\\left(\\begin{array}{l}x \\\\ y \\\\ n \\\\ 1\\end{array}\\right) \\Rightarrow \\left(\\begin{array}{l}x \\\\ y \\\\ n \\\\ 1\\end{array}\\right) == \\left(\\begin{array}{c}n x \\\\ n y \\\\ n^{2} \\\\ n\\end{array}\\right)$\n",
    ">\n",
    "> $b = \\left(\\begin{array}{l}0 \\\\ 0 \\\\ f \\\\ 1\\end{array}\\right)$ on far plane, so\n",
    "> $M_{presp \\rightarrow ortho}\\left(\\begin{array}{l}0 \\\\ 0 \\\\ f \\\\ 1\\end{array}\\right) \\Rightarrow\\left(\\begin{array}{l}0 \\\\ 0 \\\\ f \\\\ 1\\end{array}\\right)==\\left(\\begin{array}{c}0 \\\\ 0 \\\\ f^{2} \\\\ f\\end{array}\\right)$"
   ]
  },
  {
   "cell_type": "markdown",
   "metadata": {},
   "source": [
    "> Therefore,  $M_{persp \\rightarrow ortho}=\\left(\\begin{array}{cccc}n & 0 & 0 & 0 \\\\ 0 & n & 0 & 0 \\\\ 0 & 0 & n+f & -nf \\\\ 0 & 0 & 1 & 0\\end{array}\\right)$"
   ]
  }
 ],
 "metadata": {
  "kernelspec": {
   "display_name": "Python 3",
   "language": "python",
   "name": "python3"
  },
  "language_info": {
   "codemirror_mode": {
    "name": "ipython",
    "version": 3
   },
   "file_extension": ".py",
   "mimetype": "text/x-python",
   "name": "python",
   "nbconvert_exporter": "python",
   "pygments_lexer": "ipython3",
   "version": "3.8.5"
  }
 },
 "nbformat": 4,
 "nbformat_minor": 4
}
