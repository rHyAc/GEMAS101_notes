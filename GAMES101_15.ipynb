{
 "cells": [
  {
   "cell_type": "markdown",
   "metadata": {},
   "source": [
    "# Didirection Reflectance Distribution Function (BRDF)\n",
    "\n",
    "represents how much light is reflected into each outgoing direction $\\omega_{r}$ from each incoming direction\n",
    "\n",
    "> $f_{r}\\left(\\omega_{i} \\rightarrow \\omega_{r}\\right)=\\frac{\\mathrm{d} L_{r}\\left(\\omega_{r}\\right)}{\\mathrm{d} E_{i}\\left(\\omega_{i}\\right)}=\\frac{\\mathrm{d} L_{r}\\left(\\omega_{r}\\right)}{L_{i}\\left(\\omega_{i}\\right) \\cos \\theta_{i} \\mathrm{~d} \\omega_{i}} \\quad\\left[\\frac{1}{\\mathrm{sr}}\\right]$\n",
    ">\n",
    "> ![](./imgs/39.jpg)"
   ]
  },
  {
   "cell_type": "markdown",
   "metadata": {},
   "source": [
    "# The Reflection Equation\n",
    "\n",
    "> $L_{r}\\left(\\mathrm{p}, \\omega_{r}\\right)=\\int_{H^{2}} f_{r}\\left(\\mathrm{p}, \\omega_{i} \\rightarrow \\omega_{r}\\right) L_{i}\\left(\\mathrm{p}, \\omega_{i}\\right) \\cos \\theta_{i} \\mathrm{~d} \\omega_{i}$\n",
    ">\n",
    "> ![](./imgs/40.jpg)"
   ]
  },
  {
   "cell_type": "markdown",
   "metadata": {},
   "source": [
    "# The Rendering Equation\n",
    "\n",
    "> $L_{o}\\left(p, \\omega_{o}\\right)=L_{e}\\left(p, \\omega_{o}\\right)+\\int_{\\Omega^{+}} L_{i}\\left(p, \\omega_{i}\\right) f_{r}\\left(p, \\omega_{i}, \\omega_{o}\\right)\\left(n \\cdot \\omega_{i}\\right) \\mathrm{d} \\omega_{i}$\n",
    ">\n",
    "> where $L_{e}\\left(p, \\omega_{o}\\right)$: Emission term\n",
    ">\n",
    "> **Note**: in these equation, all directions point outwards\n",
    "\n",
    "> **linear version**: $L=E+KL$, where $L$, $E$ are light vectors and $K$ is the light transport matrix\n",
    ">\n",
    "> so\n",
    "> $\\begin{aligned} L &=E+K L \\\\ I L-K L &=E \\\\(I-K) L &=E \\\\ L &=(I-K)^{-1} E \\\\ L &=\\left(I+K+K^{2}+K^{3}+\\ldots\\right) E &\\text{(Binomial Theorem)} \\\\ L &=E+K E+K^{2} E+K^{3} E+\\ldots \\end{aligned}$\n",
    ">\n",
    "> where  \n",
    "> $E$: Emission directly,  \n",
    "> $KE$: direct illumination,  \n",
    "> $K^{2}E$: one bounce indirect illumination,  \n",
    "> $K^{3}E$: two bounce indirect illumination,  \n",
    "> ..."
   ]
  }
 ],
 "metadata": {
  "kernelspec": {
   "display_name": "Python 3",
   "language": "python",
   "name": "python3"
  },
  "language_info": {
   "codemirror_mode": {
    "name": "ipython",
    "version": 3
   },
   "file_extension": ".py",
   "mimetype": "text/x-python",
   "name": "python",
   "nbconvert_exporter": "python",
   "pygments_lexer": "ipython3",
   "version": "3.8.5"
  }
 },
 "nbformat": 4,
 "nbformat_minor": 4
}
