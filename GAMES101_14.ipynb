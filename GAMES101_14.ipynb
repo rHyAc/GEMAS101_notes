{
 "cells": [
  {
   "cell_type": "markdown",
   "metadata": {},
   "source": [
    "# KD-Tree to Recursively Get Bounding Volumes\n",
    "\n",
    "- diffcult to know whether a triangle intersect with a volumes \n",
    "- A triangle may be contained in many volumes"
   ]
  },
  {
   "cell_type": "markdown",
   "metadata": {},
   "source": [
    "# Object Partitions & Bounding Volume Hierachy (BVH)\n",
    "\n",
    "KD-Tree split space, but BVH split triangle set\n",
    "\n",
    "![](./imgs/34.jpg)"
   ]
  },
  {
   "cell_type": "markdown",
   "metadata": {},
   "source": [
    "### BVH Traversal\n",
    "\n",
    "```c\n",
    "Intersect(Ray ray, BVH node)\n",
    "{\n",
    "    if (ray misses node.bbox) return;\n",
    "    \n",
    "    if (node is a leaf node)\n",
    "    {\n",
    "        test intersection with all objs;\n",
    "        return closest intersection;\n",
    "    }\n",
    "    \n",
    "    hit1 = Intersect(ray, node.child1);\n",
    "    hit2 = Intersect(ray, node.child2);\n",
    "    \n",
    "    return the closer of hit1, hit2;\n",
    "}\n",
    "```\n",
    "\n",
    "![](./imgs/35.jpg)"
   ]
  },
  {
   "cell_type": "markdown",
   "metadata": {},
   "source": [
    "# Radiometry\n",
    "\n",
    "> radian flux (power): energy emitted, reflected, transmitted or received per unit time\n",
    ">\n",
    "> $\\Phi \\equiv \\frac{\\mathrm{d} Q}{\\mathrm{~d} t}[\\mathrm{W}=\\text{Watt}][\\mathrm{lm}=\\text {lumen}]^{\\star}$\n",
    ">\n",
    "> where $Q$: enery\n",
    "\n",
    "> radiant intensity: power per unit solid angle emitted by a point light source\n",
    ">\n",
    "> $I(\\omega) \\equiv \\frac{\\mathrm{d} \\Phi}{\\mathrm{d} \\omega} \\left[\\frac{\\mathrm{W}}{\\mathrm{sr}}\\right]\\left[\\frac{\\mathrm{lm}}{\\mathrm{sr}}=\\mathrm{cd}=\\text{candela}\\right]$\n",
    ">\n",
    "> where $\\mathrm{d} \\omega$: differential solid angle\n",
    ">\n",
    "> $\\mathrm{d} A=r^{2}\\sin \\theta \\mathrm{d} \\theta \\mathrm{d} \\phi$\n",
    ">\n",
    "> so $\\mathrm{d} \\omega=\\frac{\\mathrm{d} A}{r^{2}}=\\sin \\theta \\mathrm{d} \\theta \\mathrm{d} \\phi$\n",
    ">\n",
    "> ![](./imgs/37.jpg)\n",
    ">\n",
    "> for isotropic point source, $\\Phi=\\int_{S^{2}} I \\mathrm{d} \\omega =4 \\pi I $ and $I=\\frac{\\Phi}{4 \\pi}$"
   ]
  },
  {
   "cell_type": "markdown",
   "metadata": {},
   "source": [
    "> iradiance: power per perpendicular/projected unit area incident on a surface point\n",
    ">\n",
    "> $E(\\mathbf{x}) \\equiv \\frac{\\mathrm{d} \\Phi(\\mathbf{x})}{\\mathrm{d} A} \\left[\\frac{\\mathrm{W}}{\\mathrm{m}^{2}}\\right]\\left[\\frac{\\operatorname{lm}}{\\mathrm{m}^{2}}=\\operatorname{lux}\\right]$\n"
   ]
  },
  {
   "cell_type": "markdown",
   "metadata": {},
   "source": [
    "> radiance: the power emitted, reflected, transmitted or receivied by a surface, per unit solid angle, per projected unit area\n",
    ">\n",
    "> $L(\\mathrm{p}, \\omega) \\equiv \\frac{\\mathrm{d}^{2} \\Phi(\\mathrm{p}, \\omega)}{\\mathrm{d} \\omega \\mathrm{d} A \\cos \\theta} \\left[\\frac{\\mathrm{W}}{\\mathrm{sr}*\\mathrm{m}^{2}}\\right]\\left[\\frac{\\mathrm{cd}}{\\mathrm{m}^{2}}=\\frac{\\mathrm{lm}}{\\mathrm{sr} *\\mathrm{m}^{2}}=\\mathrm{nit}\\right]$\n",
    ">\n",
    "> where $cos\\theta$ accounts for projected surface arear\n",
    ">\n",
    "> ![](./imgs/38.jpg)"
   ]
  }
 ],
 "metadata": {
  "kernelspec": {
   "display_name": "Python 3",
   "language": "python",
   "name": "python3"
  },
  "language_info": {
   "codemirror_mode": {
    "name": "ipython",
    "version": 3
   },
   "file_extension": ".py",
   "mimetype": "text/x-python",
   "name": "python",
   "nbconvert_exporter": "python",
   "pygments_lexer": "ipython3",
   "version": "3.8.5"
  }
 },
 "nbformat": 4,
 "nbformat_minor": 4
}
