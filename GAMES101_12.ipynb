{
 "cells": [
  {
   "cell_type": "markdown",
   "metadata": {},
   "source": [
    "# Mesh Subdivision"
   ]
  },
  {
   "cell_type": "markdown",
   "metadata": {},
   "source": [
    "### Loop Subdivision\n",
    "\n",
    "- split triangle into four by connect the midpoint of each side\n",
    "\n",
    "![](./imgs/18.jpg)\n",
    "\n",
    "- update vertics\n",
    "\n",
    "> For new vertex (white point)\n",
    ">\n",
    "> update to $\\frac{3}{8}(A+B)+\\frac{1}{8}(C+D)$\n",
    ">\n",
    "> ![](./imgs/19.jpg)\n",
    "\n",
    "> For old vertex (white point)\n",
    ">\n",
    "> update to $ (1-nu)*\\text{original_position} + u*\\text{neighbor_position_sum}$, where $n$: vertex degree, $u=\\begin{cases} \\frac{3}{16} &n=3 \\\\ \\frac{3}{8n} &otherwise \\end{cases}$ \n",
    ">\n",
    "> ![](./imgs/20.jpg)"
   ]
  },
  {
   "cell_type": "markdown",
   "metadata": {},
   "source": [
    "### Catmull-Clark Subdivision (General Mesh)\n",
    "\n",
    "- split: connect the midpoint in each side with the point in origin face\n",
    "\n",
    "> before:  \n",
    "> ![](./imgs/21.jpg)\n",
    ">\n",
    "> after:  \n",
    "> ![](./imgs/22.jpg)\n",
    "\n",
    "- update\n",
    "\n",
    "> ![](./imgs/23.jpg)"
   ]
  },
  {
   "cell_type": "markdown",
   "metadata": {},
   "source": [
    "# Mesh Simplification"
   ]
  },
  {
   "cell_type": "markdown",
   "metadata": {},
   "source": [
    "### Collapsing an Edge\n",
    "\n",
    "![](./imgs/24.jpg)\n",
    "\n",
    "- Quadric Error Metrics\n",
    "\n",
    "> new vertex should minimize its L2 distance to previously related triangle planes (optimazation problem)\n",
    ">\n",
    "> ![](./imgs/25.jpg)\n",
    "\n",
    "- simplification via quaric error: iteratively collape edge with smallest quaric error"
   ]
  },
  {
   "cell_type": "markdown",
   "metadata": {},
   "source": [
    "# Shadow Mapping"
   ]
  },
  {
   "cell_type": "markdown",
   "metadata": {},
   "source": [
    "the points not in shadow must be seen both **by the light** and **by the camera**"
   ]
  },
  {
   "cell_type": "markdown",
   "metadata": {},
   "source": [
    "1. depth image from light source (z-buffer?)\n",
    "\n",
    "![](./imgs/26.jpg)\n",
    "\n",
    "2. standard image (with depth) from eye\n",
    "\n",
    "![](./imgs/27.jpg)\n",
    "\n",
    "3. project visible points in eye view back to light source\n",
    "\n",
    "![](./imgs/28.jpg)  \n",
    "![](./imgs/29.jpg)"
   ]
  },
  {
   "cell_type": "markdown",
   "metadata": {},
   "source": [
    "> problems with shadow maps\n",
    "> - hard shadows(point lights only)\n",
    "> - quality depends on shadow map resolution\n",
    "> - involves equality comparison of floating point depth"
   ]
  }
 ],
 "metadata": {
  "kernelspec": {
   "display_name": "Python 3",
   "language": "python",
   "name": "python3"
  },
  "language_info": {
   "codemirror_mode": {
    "name": "ipython",
    "version": 3
   },
   "file_extension": ".py",
   "mimetype": "text/x-python",
   "name": "python",
   "nbconvert_exporter": "python",
   "pygments_lexer": "ipython3",
   "version": "3.8.5"
  }
 },
 "nbformat": 4,
 "nbformat_minor": 4
}
