{
 "cells": [
  {
   "cell_type": "markdown",
   "metadata": {},
   "source": [
    "# Implicit Representations of Geometry\n",
    "\n",
    "giving the specified relationship satisfied by points, e.g. shpere: $x^{2}+y^{2}+z^{2}=1$\n",
    "\n",
    "***\n",
    "\n",
    "easy to judge whether a point is in/on/outside the object, but difficult to get all points satifying the giving relationship\n",
    "\n",
    "***\n",
    "- Constructive Solid Geometry\n",
    "\n",
    "![](./imgs/14.jpg)\n",
    "\n",
    "- Distance Function\n",
    " \n",
    "giving minimun distance(could be signed distance) from anywhere to object\n",
    "\n",
    "![](./imgs/15.jpg)"
   ]
  },
  {
   "cell_type": "markdown",
   "metadata": {},
   "source": [
    "# Explicit Representations of Geometry¶\n",
    "\n",
    "giving points directly or via parameter mapping\n",
    "\n",
    "***\n",
    "\n",
    "countrary to the implicit one\n",
    "\n",
    "***\n",
    "\n",
    "- Point cloud \n",
    "\n",
    "list of points (x, y, z)\n",
    "\n",
    "- Polygon Mesh\n",
    "\n",
    "store vertices & polygons (often triangles or quads)"
   ]
  },
  {
   "cell_type": "markdown",
   "metadata": {},
   "source": [
    "# Bezier Curves"
   ]
  },
  {
   "cell_type": "markdown",
   "metadata": {},
   "source": [
    "- quadratic Bezier curves from three points\n",
    "\n",
    ">$\\mathbf{b}_{0}^{1}(t)=(1-t) \\mathbf{b}_{0}+t \\mathbf{b}_{1}$\n",
    ">\n",
    ">$\\mathbf{b}_{1}^{1}(t)=(1-t) \\mathbf{b}_{1}+t \\mathbf{b}_{2}$\n",
    ">\n",
    ">$\\begin{aligned}\\mathbf{b}_{0}^{2}(t)&=(1-t) \\mathbf{b}_{0}^{1}+t \\mathbf{b}_{1}^{1} \\\\\n",
    "&=(1-t)^{2} \\mathbf{b}_{0}+2 t(1-t) \\mathbf{b}_{1}+t^{2} \\mathbf{b}_{2}\\end{aligned}$\n",
    ">\n",
    ">![](./imgs/16.jpg)"
   ]
  },
  {
   "cell_type": "markdown",
   "metadata": {},
   "source": [
    "- Bernstein form of a Bezier curve of order n:\n",
    "\n",
    "> $\\mathbf{b}^{n}(t)=\\mathbf{b}_{0}^{n}(t)=\\sum_{j=0}^{n} \\mathbf{b}_{j} B_{j}^{n}(t)$\n",
    ">\n",
    "> where  \n",
    "> $\\mathbf{b}^{n}(t)$: Bezier curve order n\n",
    ">\n",
    "> $\\mathbf{b}_{j}$: Bezier control points, can be in 3D\n",
    ">\n",
    "> $B_{i}^{n}(t)=\\left(\\begin{array}{l}n \\\\ i\\end{array}\\right) t^{i}(1-t)^{n-i}$: Bernstein polynomial"
   ]
  },
  {
   "cell_type": "markdown",
   "metadata": {},
   "source": [
    "- affine transformation of curve can be achieve by affine transforming control points\n",
    "\n",
    "- curve is within convex hull of control points"
   ]
  },
  {
   "cell_type": "markdown",
   "metadata": {},
   "source": [
    "# Bezier Surface\n",
    "\n",
    "![](./imgs/17.jpg)"
   ]
  }
 ],
 "metadata": {
  "kernelspec": {
   "display_name": "Python 3",
   "language": "python",
   "name": "python3"
  },
  "language_info": {
   "codemirror_mode": {
    "name": "ipython",
    "version": 3
   },
   "file_extension": ".py",
   "mimetype": "text/x-python",
   "name": "python",
   "nbconvert_exporter": "python",
   "pygments_lexer": "ipython3",
   "version": "3.8.5"
  }
 },
 "nbformat": 4,
 "nbformat_minor": 4
}
