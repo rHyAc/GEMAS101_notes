{
 "cells": [
  {
   "cell_type": "markdown",
   "metadata": {},
   "source": [
    "# Light Field/Lumigraph\n",
    "\n",
    "describe light intensity in every direction through every point in space"
   ]
  },
  {
   "cell_type": "markdown",
   "metadata": {},
   "source": [
    "### The Plenoptic Function \n",
    "\n",
    "> light intensity $P\\left(\\theta, \\phi, \\lambda, t, V_{X}, V_{Y}, V_{Z}\\right)$, where $(\\theta, \\phi)$: view, $\\lambda$: optical wavelength, $t$: time, $(V_{X}, V_{Y}, V_{z})$: camera postion"
   ]
  },
  {
   "cell_type": "markdown",
   "metadata": {},
   "source": [
    "### 4D (u, v, s, t) to describe ray\n",
    "\n",
    "![](./imgs/58.jpg)"
   ]
  },
  {
   "cell_type": "markdown",
   "metadata": {},
   "source": [
    "# Sprectral Power Distribution (SPD)\n",
    "\n",
    "\n",
    "![](./imgs/59.jpg)\n",
    "\n",
    "- linearity\n",
    "\n",
    "![](./imgs/60.jpg)\n",
    "\n"
   ]
  }
 ],
 "metadata": {
  "kernelspec": {
   "display_name": "Python 3",
   "language": "python",
   "name": "python3"
  },
  "language_info": {
   "codemirror_mode": {
    "name": "ipython",
    "version": 3
   },
   "file_extension": ".py",
   "mimetype": "text/x-python",
   "name": "python",
   "nbconvert_exporter": "python",
   "pygments_lexer": "ipython3",
   "version": "3.8.5"
  }
 },
 "nbformat": 4,
 "nbformat_minor": 4
}
