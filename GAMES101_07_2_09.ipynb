{
 "cells": [
  {
   "cell_type": "markdown",
   "metadata": {},
   "source": [
    "# Z-Buffer\n",
    "\n",
    " ```c\n",
    "/* pixel orientation\n",
    " * frame buffer stores frontmost color values\n",
    " * depth/z buffer stores frontmost depth \n",
    " */\n",
    " \n",
    "z_buffer = inf\n",
    "\n",
    "for (each triangle T)\n",
    "    for (each sample (x, y, z) in T)\n",
    "        if (z < z_buffer[x, y])\n",
    "            frame_buffer[x, y] = rgb;\n",
    "            z_buffer[x, y] = z;\n",
    "            \n",
    "        else\n",
    " \n",
    "```"
   ]
  },
  {
   "cell_type": "markdown",
   "metadata": {},
   "source": [
    "# Shading\n",
    "\n",
    "The process of applying a material to an object"
   ]
  },
  {
   "cell_type": "markdown",
   "metadata": {},
   "source": [
    "## shading point\n",
    "\n",
    "> viewer direction, $\\mathbf{v}$  \n",
    "surface normal, $\\mathbf{n}$    \n",
    "light direction, $\\mathbf{l}$ (for each light)  \n",
    "> (each of them is unit vector)\n",
    ">\n",
    "> ![](./imgs/5.jpg)"
   ]
  },
  {
   "cell_type": "markdown",
   "metadata": {},
   "source": [
    "# Blinn-Phong Reflectance Model  \n",
    "$L=L_{d}+L_{s}+L_{a}$"
   ]
  },
  {
   "cell_type": "markdown",
   "metadata": {},
   "source": [
    "- Diffuse\n",
    "\n",
    "> $L_{d}=k_{d}\\left(I / r^{2}\\right) \\max (0, \\mathbf{n} \\cdot \\mathbf{l})$\n",
    ">\n",
    "> where  \n",
    "> $L_{d}$: diffusely reflected light,   \n",
    "> $k_{d}$: diffuse coefficient(color),   \n",
    "> $I / r^{2}$: energy arrived at the shading point,   \n",
    "> $\\max (0, \\mathbf{n} \\cdot \\mathbf{l})$: energy received by the shading point"
   ]
  },
  {
   "cell_type": "markdown",
   "metadata": {
    "tags": []
   },
   "source": [
    "- Specular\n",
    "\n",
    "> $h=bisector(\\mathbf{v}, \\mathbf{l})=\\frac{\\mathbf{v}+1}{\\|\\mathbf{v}+\\mathbf{l}\\|}$\n",
    ">\n",
    "> $L_{s}=k_{s}\\left(I / r^{2}\\right) \\max (0, \\mathbf{n} \\cdot \\mathbf{h})^{p}$\n",
    ">\n",
    "> where  \n",
    "> $L_{s}$: specularly reflected light  \n",
    "> $k_{s}$: specular coefficient  \n",
    "> usually, $100 \\leq p \\leq 200$"
   ]
  },
  {
   "cell_type": "markdown",
   "metadata": {},
   "source": [
    "- Ambient\n",
    "\n",
    "> $L_{a}=k_{a} I_{a}$\n",
    ">\n",
    "> where  \n",
    "> $L_{a}$: reflected ambient light  \n",
    "> $k_{a}$: ambient coefficient"
   ]
  },
  {
   "cell_type": "markdown",
   "metadata": {},
   "source": [
    "# Shading Frequency"
   ]
  },
  {
   "cell_type": "markdown",
   "metadata": {},
   "source": [
    "- flat shading"
   ]
  },
  {
   "cell_type": "markdown",
   "metadata": {},
   "source": [
    "- Gouraud shading  \n",
    "interpolate colors from vetices across triangle"
   ]
  },
  {
   "cell_type": "markdown",
   "metadata": {},
   "source": [
    "- Phong shading  \n",
    "compute shading model at each pixel"
   ]
  },
  {
   "cell_type": "markdown",
   "metadata": {},
   "source": [
    "# Point Normals"
   ]
  },
  {
   "cell_type": "markdown",
   "metadata": {},
   "source": [
    "- vertex normals\n",
    "\n",
    "> $N_{v}=\\frac{\\sum_{i} N_{i}}{\\left\\Vert \\sum_{i} N_{i}\\right\\Vert}$\n",
    "\n",
    "![](./imgs/6.jpg)"
   ]
  },
  {
   "cell_type": "markdown",
   "metadata": {},
   "source": [
    " - pre-pixel normals  \n",
    " Barycentric interpolation of vertex normals(don't forget to norm)"
   ]
  },
  {
   "cell_type": "markdown",
   "metadata": {},
   "source": [
    "# Pipeline\n",
    "\n",
    "![](./imgs/7.jpg)\n"
   ]
  },
  {
   "cell_type": "markdown",
   "metadata": {},
   "source": [
    "# Texture"
   ]
  },
  {
   "cell_type": "markdown",
   "metadata": {},
   "source": [
    "- a pixel on a texture call a texel\n",
    "- each triangle vertex is assigned to a texture coordinate (u, v)  \n",
    "- coordinates are normalized \n",
    "- usually record the diffuse albedo coefficience $k_{d}$ or other attributes\n",
    "\n",
    "![](./imgs/8.jpg)"
   ]
  },
  {
   "cell_type": "markdown",
   "metadata": {},
   "source": [
    "### texture is too small\n",
    "\n",
    "- solution: texture interpolation "
   ]
  },
  {
   "cell_type": "markdown",
   "metadata": {},
   "source": [
    "### texture is too large\n",
    "\n",
    "sample frenquency is too low\n",
    "\n",
    "> grey quadrilateral: pixel footprint, blue point: sample point  \n",
    "![](./imgs/11.jpg)"
   ]
  },
  {
   "cell_type": "markdown",
   "metadata": {},
   "source": [
    "- solution: \n",
    "1. supersampling -- costly"
   ]
  },
  {
   "cell_type": "markdown",
   "metadata": {},
   "source": [
    "2. #### Mipmap (image pyramid) -- overblur in the distance\n",
    "\n",
    "![](./imgs/12.jpg)\n",
    "\n",
    "***\n",
    "compute Mipmap level $D$\n",
    "\n",
    "![](./imgs/13.jpg)\n",
    "\n",
    "***\n",
    "\n",
    "level interpolation\n",
    "\n",
    "***\n",
    "\n",
    "improvement: anisotropic filtering, EWA filtering -- mitigate overblur"
   ]
  },
  {
   "cell_type": "markdown",
   "metadata": {},
   "source": [
    "# Barycentric interpolation"
   ]
  },
  {
   "cell_type": "markdown",
   "metadata": {},
   "source": [
    "- Barrycentric Coordinates(not project-invariant)\n",
    "\n",
    "![](./imgs/9.jpg)"
   ]
  },
  {
   "cell_type": "markdown",
   "metadata": {},
   "source": [
    "> $\\alpha=\\frac{S_{A_{A}}}{S_{A_{A}}+S_{A_{B}}+S_{A_{C}}}=\\frac{-\\left(x-B_{x}\\right)\\left(C_{y}-B_{y}\\right)+\\left(y-B_{y}\\right)\\left(C_{x}-B_{x}\\right)}{-\\left(A_{x}-B_{x}\\right)\\left(C_{y}-B_{y}\\right)+\\left(A_{y}-B_{y}\\right)\\left(C_{x}-B_{x}\\right)}$\n",
    ">\n",
    "> $\\beta=\\frac{S_{A_{B}}}{S_{A_{A}}+S_{A_{B}}+S_{A_{C}}}=\\frac{-\\left(x-C_{x}\\right)\\left(A_{y}-C_{y}\\right)+\\left(y-C_{y}\\right)\\left(A_{x}-C_{x}\\right)}{-\\left(B_{x}-C_{x}\\right)\\left(A_{y}-C_{y}\\right)+\\left(B_{y}-C_{y}\\right)\\left(A_{x}-C_{x}\\right)}$\n",
    ">\n",
    "> $\\gamma=\\frac{S_{A_{C}}}{S_{A_{A}}+S_{A_{B}}+S_{A_{C}}}=1-\\alpha-\\beta$\n",
    ">\n",
    "> $S = \\frac{\\Vert\\vec{a} \\times \\vec{b}\\Vert}{2}$\n",
    ">\n",
    ">![](./imgs/10.jpg)"
   ]
  },
  {
   "cell_type": "markdown",
   "metadata": {},
   "source": [
    "- Interpolation\n",
    "\n",
    "> $V=\\alpha V_{A}+\\beta V_{B}+\\gamma V_{C}$\n",
    ">\n",
    "> where, $V$ is the attribute of point"
   ]
  }
 ],
 "metadata": {
  "kernelspec": {
   "display_name": "Python 3",
   "language": "python",
   "name": "python3"
  },
  "language_info": {
   "codemirror_mode": {
    "name": "ipython",
    "version": 3
   },
   "file_extension": ".py",
   "mimetype": "text/x-python",
   "name": "python",
   "nbconvert_exporter": "python",
   "pygments_lexer": "ipython3",
   "version": "3.8.5"
  }
 },
 "nbformat": 4,
 "nbformat_minor": 4
}
